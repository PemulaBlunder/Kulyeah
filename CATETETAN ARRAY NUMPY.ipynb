{
 "cells": [
  {
   "cell_type": "code",
   "execution_count": 18,
   "id": "a997baa9-be2f-4946-b8c2-d9984408e428",
   "metadata": {},
   "outputs": [
    {
     "name": "stdout",
     "output_type": "stream",
     "text": [
      "\n",
      "Perkalian Matriks (dot product):\n",
      " [[ 30  36  42]\n",
      " [ 66  81  96]\n",
      " [102 126 150]]\n",
      "\n",
      "Original array:\n",
      "[0 1 2 3 4 5 6 7 8 9]\n",
      "\n",
      "Basic slicing:\n",
      "[2 3 4]\n",
      "[0 1 2 3 4 5]\n",
      "[7 8 9]\n",
      "[2 4 6]\n",
      "\n",
      "Negative indices:\n",
      "[7 8 9]\n",
      "[0 1 2 3 4 5 6 7]\n",
      "\n",
      "Multi-dimensional array slicing:\n",
      "Original 2D array:\n",
      "[[1 2 3]\n",
      " [4 5 6]\n",
      " [7 8 9]]\n",
      "\n",
      "Sliced row:\n",
      "[4 5 6]\n",
      "\n",
      "Sliced column:\n",
      "[3 6 9]\n",
      "\n",
      "Sliced subarray:\n",
      "[[2 3]\n",
      " [5 6]]\n"
     ]
    }
   ],
   "source": [
    "import numpy as np\n",
    "\n",
    "# Create a NumPy array\n",
    "arr = np.array([0, 1, 2, 3, 4, 5, 6, 7, 8, 9])\n",
    "\n",
    "# Basic slicing\n",
    "slice1 = arr[2:5]  # Get elements from index 2 to 4\n",
    "slice2 = arr[:6]   # Get elements from the beginning to index 5\n",
    "slice3 = arr[7:]   # Get elements from index 7 to the end\n",
    "slice4 = arr[2:8:2]  # Get elements from index 2 to 7 with a step of 2\n",
    "\n",
    "# Negative indices\n",
    "slice5 = arr[-3:]   # Get the last 3 elements\n",
    "slice6 = arr[:-2]   # Get elements from the beginning to the third-to-last element\n",
    "\n",
    "# Multi-dimensional array slicing\n",
    "arr_2d = np.array([[1, 2, 3],\n",
    "                   [4, 5, 6],\n",
    "                   [7, 8, 9]])\n",
    "\n",
    "slice_row = arr_2d[1, :]     # Get the second row\n",
    "slice_col = arr_2d[:, 2]     # Get the third column\n",
    "slice_subarray = arr_2d[0:2, 1:3]  # Get a subarray\n",
    "result_dot_product = np.dot(arr_2d, arr_2d)\n",
    "print(\"\\nPerkalian Matriks (dot product):\\n\", result_dot_product)\n",
    "\n",
    "print(\"\\nOriginal array:\")\n",
    "print(arr)\n",
    "print(\"\\nBasic slicing:\")\n",
    "print(slice1)\n",
    "print(slice2)\n",
    "print(slice3)\n",
    "print(slice4)\n",
    "print(\"\\nNegative indices:\")\n",
    "print(slice5)\n",
    "print(slice6)\n",
    "print(\"\\nMulti-dimensional array slicing:\")\n",
    "print(\"Original 2D array:\")\n",
    "print(arr_2d)\n",
    "print(\"\\nSliced row:\")\n",
    "print(slice_row)\n",
    "print(\"\\nSliced column:\")\n",
    "print(slice_col)\n",
    "print(\"\\nSliced subarray:\")\n",
    "print(slice_subarray)\n"
   ]
  },
  {
   "cell_type": "code",
   "execution_count": 14,
   "id": "09c5ffe4-7e47-4ee7-b203-de0fa8f99015",
   "metadata": {},
   "outputs": [
    {
     "name": "stdout",
     "output_type": "stream",
     "text": [
      "Penjumlahan:\n",
      " [[ 8 10 12]\n",
      " [14 16 18]]\n",
      "\n",
      "Pengurangan:\n",
      " [[-6 -6 -6]\n",
      " [-6 -6 -6]]\n",
      "\n",
      "Perkalian (elemen-wise):\n",
      " [[ 7 16 27]\n",
      " [40 55 72]]\n",
      "\n",
      "Pembagian (elemen-wise):\n",
      " [[0.14285714 0.25       0.33333333]\n",
      " [0.4        0.45454545 0.5       ]]\n",
      "\n",
      "Perkalian Matriks (dot product):\n",
      " [[ 50  68]\n",
      " [122 167]]\n"
     ]
    }
   ],
   "source": [
    "import numpy as np\n",
    "\n",
    "# Membuat dua array 2D\n",
    "array1 = np.array([[1, 2, 3],\n",
    "                   [4, 5, 6]])\n",
    "\n",
    "array2 = np.array([[7, 8, 9],\n",
    "                   [10, 11, 12]])\n",
    "\n",
    "# Penjumlahan dua array\n",
    "result_addition = array1 + array2\n",
    "print(\"Penjumlahan:\\n\", result_addition)\n",
    "\n",
    "# Pengurangan dua array\n",
    "result_subtraction = array1 - array2\n",
    "print(\"\\nPengurangan:\\n\", result_subtraction)\n",
    "\n",
    "# Perkalian dua array (elemen-wise)\n",
    "result_multiplication = array1 * array2\n",
    "print(\"\\nPerkalian (elemen-wise):\\n\", result_multiplication)\n",
    "\n",
    "# Pembagian dua array (elemen-wise)\n",
    "result_division = array1 / array2\n",
    "print(\"\\nPembagian (elemen-wise):\\n\", result_division)\n",
    "\n",
    "# Perkalian matriks (dot product)\n",
    "result_dot_product = np.dot(array1, array2.T)\n",
    "print(\"\\nPerkalian Matriks (dot product):\\n\", result_dot_product)\n"
   ]
  },
  {
   "cell_type": "code",
   "execution_count": 1,
   "id": "dc17912c-12fa-40e1-be66-fb29ceaa098c",
   "metadata": {},
   "outputs": [
    {
     "name": "stdout",
     "output_type": "stream",
     "text": [
      "Jumlah per baris: [ 6 15 24]\n",
      "Rata-rata per baris: [2. 5. 8.]\n",
      "Nilai maksimum per baris: [3 6 9]\n"
     ]
    }
   ],
   "source": [
    "import numpy as np\n",
    "\n",
    "# Buat matriks contoh\n",
    "matrix = np.array([[1, 2, 3],\n",
    "                    [4, 5, 6],\n",
    "                    [7, 8, 9]])\n",
    "\n",
    "# Hitung jumlah per baris\n",
    "sum_per_row = np.sum(matrix, axis=1)\n",
    "print(\"Jumlah per baris:\", sum_per_row)\n",
    "\n",
    "# Hitung rata-rata per baris\n",
    "mean_per_row = np.mean(matrix, axis=1)\n",
    "print(\"Rata-rata per baris:\", mean_per_row)\n",
    "\n",
    "# Hitung nilai maksimum per baris\n",
    "max_per_row = np.max(matrix, axis=1)\n",
    "print(\"Nilai maksimum per baris:\", max_per_row)\n"
   ]
  },
  {
   "cell_type": "code",
   "execution_count": 4,
   "id": "b67657d5-2011-492d-8e81-b0cd3a050c2c",
   "metadata": {},
   "outputs": [
    {
     "name": "stdout",
     "output_type": "stream",
     "text": [
      "Maximum value in each row: [3 6 9]\n",
      "Maximum value in each column: [7 8 9]\n"
     ]
    }
   ],
   "source": [
    "import numpy as np\n",
    "\n",
    "# Create a 2D array\n",
    "array_2d = np.array([[1, 2, 3],\n",
    "                      [4, 5, 6],\n",
    "                      [7, 8, 9]])\n",
    "\n",
    "# Find the maximum value in each row\n",
    "max_in_each_row = np.max(array_2d, axis=1)\n",
    "print(\"Maximum value in each row:\", max_in_each_row)\n",
    "\n",
    "# Find the maximum value in each column\n",
    "max_in_each_column = np.max(array_2d, axis=0)\n",
    "print(\"Maximum value in each column:\", max_in_each_column)\n"
   ]
  },
  {
   "cell_type": "code",
   "execution_count": 6,
   "id": "d7e4a432-45fb-4d28-a8ba-2c77b5d6d135",
   "metadata": {},
   "outputs": [
    {
     "data": {
      "text/plain": [
       "array([[0, 1, 0],\n",
       "       [0, 6, 8],\n",
       "       [8, 9, 1]])"
      ]
     },
     "execution_count": 6,
     "metadata": {},
     "output_type": "execute_result"
    }
   ],
   "source": [
    "array = np.random.randint(0, 10, \n",
    "(3,3))\n",
    "array"
   ]
  },
  {
   "cell_type": "code",
   "execution_count": null,
   "id": "9d206d54-8b7b-435d-aaa3-c6b847dc35fc",
   "metadata": {},
   "outputs": [],
   "source": []
  }
 ],
 "metadata": {
  "kernelspec": {
   "display_name": "Python 3 (ipykernel)",
   "language": "python",
   "name": "python3"
  },
  "language_info": {
   "codemirror_mode": {
    "name": "ipython",
    "version": 3
   },
   "file_extension": ".py",
   "mimetype": "text/x-python",
   "name": "python",
   "nbconvert_exporter": "python",
   "pygments_lexer": "ipython3",
   "version": "3.11.5"
  }
 },
 "nbformat": 4,
 "nbformat_minor": 5
}
